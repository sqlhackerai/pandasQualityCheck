{
 "cells": [
  {
   "cell_type": "code",
   "execution_count": 5,
   "id": "067200a8-7e15-4b0e-96ff-b3277f428bbf",
   "metadata": {},
   "outputs": [
    {
     "name": "stdout",
     "output_type": "stream",
     "text": [
      "     id firstname lastname  year_of_birth gender postal_code blood_type  \\\n",
      "0     1   Michael    Lewis           1952      F       80048         O-   \n",
      "1     2     James    Brown           1939      F       34766         B+   \n",
      "2     3   Michael    White           1992      F       63595        AB-   \n",
      "3     4      Alex    Lewis           1982      M       45978        AB-   \n",
      "4     5      Mark    Davis           1936      M       78632         A+   \n",
      "..  ...       ...      ...            ...    ...         ...        ...   \n",
      "95   96      Mark   Taylor           2009      M       54948        AB-   \n",
      "96   97      Jane   Wilson           1968      F       23077         A-   \n",
      "97   98     David    Davis           1957      F       95297        AB+   \n",
      "98   99     Emily   Harris           1939      F       30403         O+   \n",
      "99  100     Sarah   Wilson           2001      M       52235         B+   \n",
      "\n",
      "   social_security  \n",
      "0      226-60-2945  \n",
      "1      539-69-1096  \n",
      "2       7766165393  \n",
      "3      390-63-7776  \n",
      "4      295-66-5819  \n",
      "..             ...  \n",
      "95     983-89-3891  \n",
      "96     902-73-5001  \n",
      "97     408-31-7917  \n",
      "98     553-23-2388  \n",
      "99     614-23-4683  \n",
      "\n",
      "[100 rows x 8 columns]\n"
     ]
    }
   ],
   "source": [
    "import random\n",
    "import pandas as pd\n",
    "\n",
    "def random_year():\n",
    "    prob = random.random()\n",
    "    if prob < 0.05:\n",
    "        return random.choice([1700, 1800])  # historical year\n",
    "    elif prob < 0.10:\n",
    "        return random.randint(1900, 1920)  # old year\n",
    "    else:\n",
    "        return random.randint(1921, 2021)  # realistic year\n",
    "\n",
    "def random_blood_type():\n",
    "    prob = random.random()\n",
    "    if prob < 0.95:\n",
    "        return random.choice(['A+', 'A-', 'B+', 'B-', 'O+', 'O-', 'AB+', 'AB-'])\n",
    "    else:\n",
    "        return random.choice(['C+', 'XYZ'])  # random inconsistency\n",
    "\n",
    "def random_ssn():\n",
    "    prob = random.random()\n",
    "    if prob < 0.95:\n",
    "        return f\"{random.randint(100, 999)}-{random.randint(10, 99)}-{random.randint(1000, 9999)}\"\n",
    "    else:\n",
    "        return f\"{random.randint(100, 999)}{random.randint(100, 999)}{random.randint(1000, 9999)}\"  # missing hyphens and too long\n",
    "\n",
    "def random_postal_code():\n",
    "    prob = random.random()\n",
    "    if prob < 0.95:\n",
    "        return f\"{random.randint(10000, 99999)}\"\n",
    "    else:\n",
    "        return f\"{random.randint(100000, 999999)}\"  # too long postal code\n",
    "\n",
    "data = {\n",
    "    'id': range(1, 101),\n",
    "    'firstname': [random.choice(['John', 'Jane', 'Mark', 'Emily', 'Alex', 'Sarah', 'David', 'Lisa', 'James', 'Michael', 'William', None]) for _ in range(100)],\n",
    "    'lastname': [random.choice(['Doe', 'Smith', 'Brown', 'White', 'Jones', 'Davis', 'Wilson', 'Taylor', 'Harris', 'Lewis', 'Clark', None]) for _ in range(100)],\n",
    "    'year_of_birth': [random_year() for _ in range(100)],\n",
    "    'gender': [random.choice(['M', 'F']) for _ in range(100)],\n",
    "    'postal_code': [random_postal_code() for _ in range(100)],\n",
    "    'blood_type': [random_blood_type() for _ in range(100)],\n",
    "    'social_security': [random_ssn() for _ in range(100)]\n",
    "}\n",
    "\n",
    "df = pd.DataFrame(data)\n",
    "print(df)\n",
    "df.to_csv('persons.csv', index=False)"
   ]
  }
 ],
 "metadata": {
  "kernelspec": {
   "display_name": "Python 3 (ipykernel)",
   "language": "python",
   "name": "python3"
  },
  "language_info": {
   "codemirror_mode": {
    "name": "ipython",
    "version": 3
   },
   "file_extension": ".py",
   "mimetype": "text/x-python",
   "name": "python",
   "nbconvert_exporter": "python",
   "pygments_lexer": "ipython3",
   "version": "3.12.4"
  }
 },
 "nbformat": 4,
 "nbformat_minor": 5
}
